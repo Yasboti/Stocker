{
 "metadata": {
  "name": "",
  "signature": "sha256:c4c82a817c79aa0fd72660753e71614fd2c3b32dc7e2598250c32fbd6b98b152"
 },
 "nbformat": 3,
 "nbformat_minor": 0,
 "worksheets": [
  {
   "cells": [
    {
     "cell_type": "code",
     "collapsed": false,
     "input": [
      "symbol = 'F'"
     ],
     "language": "python",
     "metadata": {},
     "outputs": [],
     "prompt_number": 1
    },
    {
     "cell_type": "code",
     "collapsed": false,
     "input": [
      "%matplotlib inline\n",
      "import numpy as np\n",
      "from numpy import *\n",
      "import matplotlib.pyplot as plt\n",
      "from scipy.signal import argrelextrema\n",
      "from matplotlib import gridspec\n",
      "from matplotlib.finance import quotes_historical_yahoo_ochl\n",
      "import datetime\n",
      "\n",
      "date1 = datetime.date(2010, 1, 1)\n",
      "date2 = datetime.date(2014, 12, 1)\n",
      "\n",
      "\n",
      "quotes = quotes_historical_yahoo_ochl(symbol, date1, date2)\n",
      "\n",
      "# set up plot\n",
      "f = plt.figure(figsize=(18,8))\n",
      "gs = gridspec.GridSpec(4, 1)\n",
      "px = plt.subplot(gs[0:3,0])\n",
      "px.set_autoscaley_on(False)\n",
      "px.set_ylim([0.75,1.25])\n",
      "\n",
      "# vx = plt.subplot(gs[3,0], sharex=px)\n",
      "\n",
      "# prepare data arrays + draw\n",
      "dates = array([q[0] for q in quotes])\n",
      "opens = array([q[2] for q in quotes])\n",
      "closes = array([q[2] for q in quotes])\n",
      "highs = array([q[3] for q in quotes])\n",
      "lows = array([q[4] for q in quotes])\n",
      "volumes = array([q[5] for q in quotes])\n",
      "\n",
      "\n",
      "# fig, [px,vx] = plt.subplots(2, sharex=True, figsize=(18,8))\n",
      "px.plot_date(dates, closes/closes, '-', alpha=0.0)\n",
      "# vx.plot_date(dates, volumes, '-')\n",
      "# px.plot_date(dates, highs, '.')\n",
      "# px.plot_date(dates, lows, '.')\n",
      "# ax.plot_date(dates, opens, '.')\n",
      "\n",
      "order = 16\n",
      "cmax = argrelextrema(data=highs, comparator=np.greater, order=order)\n",
      "px.plot(dates[cmax], highs[cmax]/closes[cmax], \".\", label=\"max\")\n",
      "cmin = argrelextrema(data=lows, comparator=np.less, order=order)\n",
      "px.plot(dates[cmin], lows[cmin]/closes[cmin], \".\", label=\"min\")\n",
      "px.grid(True)\n",
      "\n",
      "order = 2\n",
      "vmax = argrelextrema(data=volumes, comparator=np.greater, order=order)\n",
      "# vx.plot(dates[vmax], volumes[vmax], \"o\", label=\"max\")\n",
      "\n",
      "vx.grid(True)\n",
      "plt.show()"
     ],
     "language": "python",
     "metadata": {},
     "outputs": [
      {
       "metadata": {},
       "output_type": "display_data",
       "png": "[encoded data removed]",
       "text": [
        "<matplotlib.figure.Figure at 0x7fd448541fd0>"
       ]
      }
     ],
     "prompt_number": 10
    },
    {
     "cell_type": "code",
     "collapsed": false,
     "input": [],
     "language": "python",
     "metadata": {},
     "outputs": [],
     "prompt_number": 6
    },
    {
     "cell_type": "code",
     "collapsed": false,
     "input": [],
     "language": "python",
     "metadata": {},
     "outputs": []
    }
   ],
   "metadata": {}
  }
 ]
}